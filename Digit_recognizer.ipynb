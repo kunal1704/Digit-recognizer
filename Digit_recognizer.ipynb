{
 "cells": [
  {
   "cell_type": "code",
   "execution_count": 8,
   "id": "68c05587-a6b0-4060-a7fa-1fbca1f13a21",
   "metadata": {},
   "outputs": [
    {
     "name": "stdout",
     "output_type": "stream",
     "text": [
      "Defaulting to user installation because normal site-packages is not writeable\n",
      "Requirement already satisfied: pandas in /home/kunal/.local/lib/python3.10/site-packages (2.2.0)\n",
      "Requirement already satisfied: numpy<2,>=1.22.4 in /home/kunal/.local/lib/python3.10/site-packages (from pandas) (1.26.3)\n",
      "Requirement already satisfied: python-dateutil>=2.8.2 in /home/kunal/.local/lib/python3.10/site-packages (from pandas) (2.8.2)\n",
      "Requirement already satisfied: pytz>=2020.1 in /usr/lib/python3/dist-packages (from pandas) (2022.1)\n",
      "Requirement already satisfied: tzdata>=2022.7 in /home/kunal/.local/lib/python3.10/site-packages (from pandas) (2023.4)\n",
      "Requirement already satisfied: six>=1.5 in /usr/lib/python3/dist-packages (from python-dateutil>=2.8.2->pandas) (1.16.0)\n",
      "Defaulting to user installation because normal site-packages is not writeable\n",
      "Requirement already satisfied: numpy in /home/kunal/.local/lib/python3.10/site-packages (1.26.3)\n",
      "Defaulting to user installation because normal site-packages is not writeable\n",
      "Requirement already satisfied: scikit-learn in /home/kunal/.local/lib/python3.10/site-packages (1.4.0)\n",
      "Requirement already satisfied: numpy<2.0,>=1.19.5 in /home/kunal/.local/lib/python3.10/site-packages (from scikit-learn) (1.26.3)\n",
      "Requirement already satisfied: scipy>=1.6.0 in /usr/lib/python3/dist-packages (from scikit-learn) (1.8.0)\n",
      "Requirement already satisfied: joblib>=1.2.0 in /home/kunal/.local/lib/python3.10/site-packages (from scikit-learn) (1.3.2)\n",
      "Requirement already satisfied: threadpoolctl>=2.0.0 in /home/kunal/.local/lib/python3.10/site-packages (from scikit-learn) (3.2.0)\n",
      "Defaulting to user installation because normal site-packages is not writeable\n",
      "Requirement already satisfied: tensorflow in /home/kunal/.local/lib/python3.10/site-packages (2.15.0.post1)\n",
      "Requirement already satisfied: absl-py>=1.0.0 in /home/kunal/.local/lib/python3.10/site-packages (from tensorflow) (2.1.0)\n",
      "Requirement already satisfied: astunparse>=1.6.0 in /home/kunal/.local/lib/python3.10/site-packages (from tensorflow) (1.6.3)\n",
      "Requirement already satisfied: flatbuffers>=23.5.26 in /home/kunal/.local/lib/python3.10/site-packages (from tensorflow) (23.5.26)\n",
      "Requirement already satisfied: gast!=0.5.0,!=0.5.1,!=0.5.2,>=0.2.1 in /home/kunal/.local/lib/python3.10/site-packages (from tensorflow) (0.5.4)\n",
      "Requirement already satisfied: google-pasta>=0.1.1 in /home/kunal/.local/lib/python3.10/site-packages (from tensorflow) (0.2.0)\n",
      "Requirement already satisfied: h5py>=2.9.0 in /home/kunal/.local/lib/python3.10/site-packages (from tensorflow) (3.10.0)\n",
      "Requirement already satisfied: libclang>=13.0.0 in /home/kunal/.local/lib/python3.10/site-packages (from tensorflow) (16.0.6)\n",
      "Requirement already satisfied: ml-dtypes~=0.2.0 in /home/kunal/.local/lib/python3.10/site-packages (from tensorflow) (0.2.0)\n",
      "Requirement already satisfied: numpy<2.0.0,>=1.23.5 in /home/kunal/.local/lib/python3.10/site-packages (from tensorflow) (1.26.3)\n",
      "Requirement already satisfied: opt-einsum>=2.3.2 in /home/kunal/.local/lib/python3.10/site-packages (from tensorflow) (3.3.0)\n",
      "Requirement already satisfied: packaging in /usr/lib/python3/dist-packages (from tensorflow) (21.3)\n",
      "Requirement already satisfied: protobuf!=4.21.0,!=4.21.1,!=4.21.2,!=4.21.3,!=4.21.4,!=4.21.5,<5.0.0dev,>=3.20.3 in /home/kunal/.local/lib/python3.10/site-packages (from tensorflow) (4.23.4)\n",
      "Requirement already satisfied: setuptools in /usr/lib/python3/dist-packages (from tensorflow) (59.6.0)\n",
      "Requirement already satisfied: six>=1.12.0 in /usr/lib/python3/dist-packages (from tensorflow) (1.16.0)\n",
      "Requirement already satisfied: termcolor>=1.1.0 in /home/kunal/.local/lib/python3.10/site-packages (from tensorflow) (2.4.0)\n",
      "Requirement already satisfied: typing-extensions>=3.6.6 in /home/kunal/.local/lib/python3.10/site-packages (from tensorflow) (4.9.0)\n",
      "Requirement already satisfied: wrapt<1.15,>=1.11.0 in /home/kunal/.local/lib/python3.10/site-packages (from tensorflow) (1.14.1)\n",
      "Requirement already satisfied: tensorflow-io-gcs-filesystem>=0.23.1 in /home/kunal/.local/lib/python3.10/site-packages (from tensorflow) (0.35.0)\n",
      "Requirement already satisfied: grpcio<2.0,>=1.24.3 in /home/kunal/.local/lib/python3.10/site-packages (from tensorflow) (1.60.1)\n",
      "Requirement already satisfied: tensorboard<2.16,>=2.15 in /home/kunal/.local/lib/python3.10/site-packages (from tensorflow) (2.15.1)\n",
      "Requirement already satisfied: tensorflow-estimator<2.16,>=2.15.0 in /home/kunal/.local/lib/python3.10/site-packages (from tensorflow) (2.15.0)\n",
      "Requirement already satisfied: keras<2.16,>=2.15.0 in /home/kunal/.local/lib/python3.10/site-packages (from tensorflow) (2.15.0)\n",
      "Requirement already satisfied: wheel<1.0,>=0.23.0 in /usr/lib/python3/dist-packages (from astunparse>=1.6.0->tensorflow) (0.37.1)\n",
      "Requirement already satisfied: google-auth<3,>=1.6.3 in /home/kunal/.local/lib/python3.10/site-packages (from tensorboard<2.16,>=2.15->tensorflow) (2.27.0)\n",
      "Requirement already satisfied: google-auth-oauthlib<2,>=0.5 in /home/kunal/.local/lib/python3.10/site-packages (from tensorboard<2.16,>=2.15->tensorflow) (1.2.0)\n",
      "Requirement already satisfied: markdown>=2.6.8 in /home/kunal/.local/lib/python3.10/site-packages (from tensorboard<2.16,>=2.15->tensorflow) (3.5.2)\n",
      "Requirement already satisfied: requests<3,>=2.21.0 in /home/kunal/.local/lib/python3.10/site-packages (from tensorboard<2.16,>=2.15->tensorflow) (2.31.0)\n",
      "Requirement already satisfied: tensorboard-data-server<0.8.0,>=0.7.0 in /home/kunal/.local/lib/python3.10/site-packages (from tensorboard<2.16,>=2.15->tensorflow) (0.7.2)\n",
      "Requirement already satisfied: werkzeug>=1.0.1 in /home/kunal/.local/lib/python3.10/site-packages (from tensorboard<2.16,>=2.15->tensorflow) (3.0.1)\n",
      "Requirement already satisfied: cachetools<6.0,>=2.0.0 in /home/kunal/.local/lib/python3.10/site-packages (from google-auth<3,>=1.6.3->tensorboard<2.16,>=2.15->tensorflow) (5.3.2)\n",
      "Requirement already satisfied: pyasn1-modules>=0.2.1 in /home/kunal/.local/lib/python3.10/site-packages (from google-auth<3,>=1.6.3->tensorboard<2.16,>=2.15->tensorflow) (0.3.0)\n",
      "Requirement already satisfied: rsa<5,>=3.1.4 in /home/kunal/.local/lib/python3.10/site-packages (from google-auth<3,>=1.6.3->tensorboard<2.16,>=2.15->tensorflow) (4.9)\n",
      "Requirement already satisfied: requests-oauthlib>=0.7.0 in /home/kunal/.local/lib/python3.10/site-packages (from google-auth-oauthlib<2,>=0.5->tensorboard<2.16,>=2.15->tensorflow) (1.3.1)\n",
      "Requirement already satisfied: charset-normalizer<4,>=2 in /home/kunal/.local/lib/python3.10/site-packages (from requests<3,>=2.21.0->tensorboard<2.16,>=2.15->tensorflow) (3.3.2)\n",
      "Requirement already satisfied: idna<4,>=2.5 in /usr/lib/python3/dist-packages (from requests<3,>=2.21.0->tensorboard<2.16,>=2.15->tensorflow) (3.3)\n",
      "Requirement already satisfied: urllib3<3,>=1.21.1 in /usr/lib/python3/dist-packages (from requests<3,>=2.21.0->tensorboard<2.16,>=2.15->tensorflow) (1.26.5)\n",
      "Requirement already satisfied: certifi>=2017.4.17 in /usr/lib/python3/dist-packages (from requests<3,>=2.21.0->tensorboard<2.16,>=2.15->tensorflow) (2020.6.20)\n",
      "Requirement already satisfied: MarkupSafe>=2.1.1 in /home/kunal/.local/lib/python3.10/site-packages (from werkzeug>=1.0.1->tensorboard<2.16,>=2.15->tensorflow) (2.1.5)\n",
      "Requirement already satisfied: pyasn1<0.6.0,>=0.4.6 in /home/kunal/.local/lib/python3.10/site-packages (from pyasn1-modules>=0.2.1->google-auth<3,>=1.6.3->tensorboard<2.16,>=2.15->tensorflow) (0.5.1)\n",
      "Requirement already satisfied: oauthlib>=3.0.0 in /usr/lib/python3/dist-packages (from requests-oauthlib>=0.7.0->google-auth-oauthlib<2,>=0.5->tensorboard<2.16,>=2.15->tensorflow) (3.2.0)\n",
      "Defaulting to user installation because normal site-packages is not writeable\n",
      "Collecting sklearn\n",
      "  Using cached sklearn-0.0.post12.tar.gz (2.6 kB)\n",
      "  Preparing metadata (setup.py) ... \u001b[?25lerror\n",
      "  \u001b[1;31merror\u001b[0m: \u001b[1msubprocess-exited-with-error\u001b[0m\n",
      "  \n",
      "  \u001b[31m×\u001b[0m \u001b[32mpython setup.py egg_info\u001b[0m did not run successfully.\n",
      "  \u001b[31m│\u001b[0m exit code: \u001b[1;36m1\u001b[0m\n",
      "  \u001b[31m╰─>\u001b[0m \u001b[31m[15 lines of output]\u001b[0m\n",
      "  \u001b[31m   \u001b[0m The 'sklearn' PyPI package is deprecated, use 'scikit-learn'\n",
      "  \u001b[31m   \u001b[0m rather than 'sklearn' for pip commands.\n",
      "  \u001b[31m   \u001b[0m \n",
      "  \u001b[31m   \u001b[0m Here is how to fix this error in the main use cases:\n",
      "  \u001b[31m   \u001b[0m - use 'pip install scikit-learn' rather than 'pip install sklearn'\n",
      "  \u001b[31m   \u001b[0m - replace 'sklearn' by 'scikit-learn' in your pip requirements files\n",
      "  \u001b[31m   \u001b[0m   (requirements.txt, setup.py, setup.cfg, Pipfile, etc ...)\n",
      "  \u001b[31m   \u001b[0m - if the 'sklearn' package is used by one of your dependencies,\n",
      "  \u001b[31m   \u001b[0m   it would be great if you take some time to track which package uses\n",
      "  \u001b[31m   \u001b[0m   'sklearn' instead of 'scikit-learn' and report it to their issue tracker\n",
      "  \u001b[31m   \u001b[0m - as a last resort, set the environment variable\n",
      "  \u001b[31m   \u001b[0m   SKLEARN_ALLOW_DEPRECATED_SKLEARN_PACKAGE_INSTALL=True to avoid this error\n",
      "  \u001b[31m   \u001b[0m \n",
      "  \u001b[31m   \u001b[0m More information is available at\n",
      "  \u001b[31m   \u001b[0m https://github.com/scikit-learn/sklearn-pypi-package\n",
      "  \u001b[31m   \u001b[0m \u001b[31m[end of output]\u001b[0m\n",
      "  \n",
      "  \u001b[1;35mnote\u001b[0m: This error originates from a subprocess, and is likely not a problem with pip.\n",
      "\u001b[?25h\u001b[1;31merror\u001b[0m: \u001b[1mmetadata-generation-failed\u001b[0m\n",
      "\n",
      "\u001b[31m×\u001b[0m Encountered error while generating package metadata.\n",
      "\u001b[31m╰─>\u001b[0m See above for output.\n",
      "\n",
      "\u001b[1;35mnote\u001b[0m: This is an issue with the package mentioned above, not pip.\n",
      "\u001b[1;36mhint\u001b[0m: See above for details.\n",
      "Defaulting to user installation because normal site-packages is not writeable\n",
      "Requirement already satisfied: matplotlib in /usr/lib/python3/dist-packages (3.5.1)\n",
      "Note: you may need to restart the kernel to use updated packages.\n"
     ]
    }
   ],
   "source": [
    "!pip install pandas\n",
    "!pip install numpy\n",
    "!pip install scikit-learn\n",
    "!pip install tensorflow\n",
    "!pip install sklearn\n",
    "%pip install matplotlib"
   ]
  },
  {
   "cell_type": "code",
   "execution_count": 9,
   "id": "93e483c2-f07e-4b97-ade8-e709f86a2987",
   "metadata": {},
   "outputs": [],
   "source": [
    "import zipfile\n",
    "import pandas as pd \n",
    "\n",
    "with zipfile.ZipFile(\"/home/kunal/Projects/Digit-recognizer/train.csv.zip\", \"r\") as zip_ref:\n",
    "    with zip_ref.open(\"train.csv\", \"r\") as df:\n",
    "        df_train = pd.read_csv(df)\n"
   ]
  },
  {
   "cell_type": "code",
   "execution_count": 10,
   "id": "c21bb20e-fd7f-4c1e-829c-9fdd965b38b7",
   "metadata": {},
   "outputs": [
    {
     "name": "stdout",
     "output_type": "stream",
     "text": [
      "the shape of X is (42000, 784)\n",
      "the shape of y is (42000,)\n"
     ]
    }
   ],
   "source": [
    "# Adding the training file and seperating the label column into a diff variable\n",
    "X = df_train.drop('label', axis =1)\n",
    "y = df_train['label']\n",
    "print(\"the shape of X is\", X.shape)\n",
    "print(\"the shape of y is\", y.shape)\n"
   ]
  },
  {
   "cell_type": "code",
   "execution_count": 11,
   "id": "6ee0bc92-9564-44b0-8d31-138a0dbe3eae",
   "metadata": {},
   "outputs": [
    {
     "name": "stderr",
     "output_type": "stream",
     "text": [
      "/usr/lib/python3/dist-packages/scipy/__init__.py:146: UserWarning: A NumPy version >=1.17.3 and <1.25.0 is required for this version of SciPy (detected version 1.26.3\n",
      "  warnings.warn(f\"A NumPy version >={np_minversion} and <{np_maxversion}\"\n"
     ]
    },
    {
     "name": "stdout",
     "output_type": "stream",
     "text": [
      "X_train shape (33600, 784)\n",
      "X_val shape (8400, 784)\n",
      "y_train shape (33600,)\n",
      "y_val shape (8400,)\n",
      "------\n",
      "y_train shape (33600, 10)\n",
      "y_val shape (8400, 10)\n"
     ]
    }
   ],
   "source": [
    "import numpy as np\n",
    "import sklearn\n",
    "from sklearn.model_selection import train_test_split\n",
    "# Splitting the data \n",
    "X_train, X_val, y_train, y_val = train_test_split(\n",
    "    X, y, test_size=0.2, random_state=42, shuffle=True\n",
    ")\n",
    "print(\"X_train shape\",X_train.shape)\n",
    "print(\"X_val shape\",X_val.shape)\n",
    "print(\"y_train shape\",y_train.shape)\n",
    "print(\"y_val shape\",y_val.shape)\n",
    "y_train = np.eye(10)[y_train]  # Assuming y_train is integer-encoded\n",
    "y_val = np.eye(10)[y_val]\n",
    "print(\"------\")\n",
    "print(\"y_train shape\",y_train.shape)\n",
    "print(\"y_val shape\",y_val.shape)\n"
   ]
  },
  {
   "cell_type": "code",
   "execution_count": 12,
   "id": "ea552294-c3cb-4365-80df-282ad91b46b8",
   "metadata": {},
   "outputs": [
    {
     "name": "stderr",
     "output_type": "stream",
     "text": [
      "2024-02-03 21:29:39.053604: I external/local_tsl/tsl/cuda/cudart_stub.cc:31] Could not find cuda drivers on your machine, GPU will not be used.\n",
      "2024-02-03 21:29:39.248246: E external/local_xla/xla/stream_executor/cuda/cuda_dnn.cc:9261] Unable to register cuDNN factory: Attempting to register factory for plugin cuDNN when one has already been registered\n",
      "2024-02-03 21:29:39.248427: E external/local_xla/xla/stream_executor/cuda/cuda_fft.cc:607] Unable to register cuFFT factory: Attempting to register factory for plugin cuFFT when one has already been registered\n",
      "2024-02-03 21:29:39.292299: E external/local_xla/xla/stream_executor/cuda/cuda_blas.cc:1515] Unable to register cuBLAS factory: Attempting to register factory for plugin cuBLAS when one has already been registered\n",
      "2024-02-03 21:29:39.353396: I external/local_tsl/tsl/cuda/cudart_stub.cc:31] Could not find cuda drivers on your machine, GPU will not be used.\n",
      "2024-02-03 21:29:39.355125: I tensorflow/core/platform/cpu_feature_guard.cc:182] This TensorFlow binary is optimized to use available CPU instructions in performance-critical operations.\n",
      "To enable the following instructions: AVX2 FMA, in other operations, rebuild TensorFlow with the appropriate compiler flags.\n",
      "2024-02-03 21:29:40.346827: W tensorflow/compiler/tf2tensorrt/utils/py_utils.cc:38] TF-TRT Warning: Could not find TensorRT\n"
     ]
    }
   ],
   "source": [
    "from tensorflow import keras\n",
    "from tensorflow.keras import layers\n",
    "\n",
    "model = keras.Sequential([\n",
    "    layers.Dense(784, activation ='relu', input_shape =[784]),\n",
    "    layers.Dropout(0.3),\n",
    "    layers.BatchNormalization(),\n",
    "    layers.Dense(128, activation='relu'),\n",
    "    layers.Dropout(0.3),\n",
    "    layers.BatchNormalization(),\n",
    "    layers.Dense(128, activation='relu'),\n",
    "    layers.Dropout(0.3),\n",
    "    layers.BatchNormalization(),\n",
    "    layers.Dense(10, activation='softmax'),\n",
    "])"
   ]
  },
  {
   "cell_type": "code",
   "execution_count": 13,
   "id": "31967d06-4819-4481-90cf-515a0394e941",
   "metadata": {},
   "outputs": [],
   "source": [
    "model.compile(\n",
    "    optimizer='adam',\n",
    "    loss='categorical_crossentropy',\n",
    "    metrics=['accuracy'],\n",
    ")"
   ]
  },
  {
   "cell_type": "code",
   "execution_count": 14,
   "id": "d02f75c5-b928-425d-bf38-50a47534660b",
   "metadata": {},
   "outputs": [
    {
     "name": "stdout",
     "output_type": "stream",
     "text": [
      "(33600, 10) (8400, 10)\n",
      "Epoch 1/100\n"
     ]
    },
    {
     "name": "stderr",
     "output_type": "stream",
     "text": [
      "2024-02-03 21:29:42.011319: W external/local_tsl/tsl/framework/cpu_allocator_impl.cc:83] Allocation of 210739200 exceeds 10% of free system memory.\n",
      "2024-02-03 21:29:46.701151: W external/local_tsl/tsl/framework/cpu_allocator_impl.cc:83] Allocation of 52684800 exceeds 10% of free system memory.\n"
     ]
    },
    {
     "name": "stdout",
     "output_type": "stream",
     "text": [
      "132/132 - 5s - loss: 0.5278 - accuracy: 0.8429 - val_loss: 0.1714 - val_accuracy: 0.9476 - 5s/epoch - 37ms/step\n",
      "Epoch 2/100\n",
      "132/132 - 3s - loss: 0.1980 - accuracy: 0.9417 - val_loss: 0.1219 - val_accuracy: 0.9627 - 3s/epoch - 23ms/step\n",
      "Epoch 3/100\n",
      "132/132 - 3s - loss: 0.1403 - accuracy: 0.9581 - val_loss: 0.1084 - val_accuracy: 0.9664 - 3s/epoch - 23ms/step\n",
      "Epoch 4/100\n",
      "132/132 - 3s - loss: 0.1109 - accuracy: 0.9665 - val_loss: 0.1029 - val_accuracy: 0.9687 - 3s/epoch - 23ms/step\n",
      "Epoch 5/100\n",
      "132/132 - 3s - loss: 0.0956 - accuracy: 0.9723 - val_loss: 0.0923 - val_accuracy: 0.9715 - 3s/epoch - 22ms/step\n",
      "Epoch 6/100\n",
      "132/132 - 3s - loss: 0.0848 - accuracy: 0.9738 - val_loss: 0.0868 - val_accuracy: 0.9727 - 3s/epoch - 22ms/step\n",
      "Epoch 7/100\n",
      "132/132 - 3s - loss: 0.0738 - accuracy: 0.9774 - val_loss: 0.0879 - val_accuracy: 0.9744 - 3s/epoch - 22ms/step\n",
      "Epoch 8/100\n",
      "132/132 - 3s - loss: 0.0675 - accuracy: 0.9785 - val_loss: 0.0874 - val_accuracy: 0.9743 - 3s/epoch - 22ms/step\n",
      "Epoch 9/100\n",
      "132/132 - 3s - loss: 0.0575 - accuracy: 0.9810 - val_loss: 0.0826 - val_accuracy: 0.9762 - 3s/epoch - 22ms/step\n",
      "Epoch 10/100\n",
      "132/132 - 3s - loss: 0.0533 - accuracy: 0.9832 - val_loss: 0.0853 - val_accuracy: 0.9742 - 3s/epoch - 22ms/step\n",
      "Epoch 11/100\n",
      "132/132 - 3s - loss: 0.0483 - accuracy: 0.9848 - val_loss: 0.0800 - val_accuracy: 0.9765 - 3s/epoch - 22ms/step\n",
      "Epoch 12/100\n",
      "132/132 - 3s - loss: 0.0425 - accuracy: 0.9869 - val_loss: 0.0813 - val_accuracy: 0.9760 - 3s/epoch - 22ms/step\n",
      "Epoch 13/100\n",
      "132/132 - 3s - loss: 0.0431 - accuracy: 0.9858 - val_loss: 0.0884 - val_accuracy: 0.9756 - 3s/epoch - 22ms/step\n",
      "Epoch 14/100\n",
      "132/132 - 3s - loss: 0.0405 - accuracy: 0.9867 - val_loss: 0.0795 - val_accuracy: 0.9773 - 3s/epoch - 22ms/step\n",
      "Epoch 15/100\n",
      "132/132 - 3s - loss: 0.0384 - accuracy: 0.9877 - val_loss: 0.0860 - val_accuracy: 0.9765 - 3s/epoch - 22ms/step\n",
      "Epoch 16/100\n",
      "132/132 - 3s - loss: 0.0337 - accuracy: 0.9893 - val_loss: 0.0874 - val_accuracy: 0.9758 - 3s/epoch - 22ms/step\n",
      "Epoch 17/100\n",
      "132/132 - 3s - loss: 0.0361 - accuracy: 0.9886 - val_loss: 0.0833 - val_accuracy: 0.9776 - 3s/epoch - 22ms/step\n",
      "Epoch 18/100\n",
      "132/132 - 3s - loss: 0.0326 - accuracy: 0.9898 - val_loss: 0.0959 - val_accuracy: 0.9740 - 3s/epoch - 22ms/step\n",
      "Epoch 19/100\n",
      "132/132 - 3s - loss: 0.0332 - accuracy: 0.9885 - val_loss: 0.0874 - val_accuracy: 0.9770 - 3s/epoch - 23ms/step\n",
      "Epoch 20/100\n",
      "132/132 - 3s - loss: 0.0343 - accuracy: 0.9890 - val_loss: 0.0910 - val_accuracy: 0.9771 - 3s/epoch - 22ms/step\n",
      "Epoch 21/100\n",
      "132/132 - 3s - loss: 0.0311 - accuracy: 0.9899 - val_loss: 0.0830 - val_accuracy: 0.9779 - 3s/epoch - 22ms/step\n",
      "Epoch 22/100\n",
      "132/132 - 3s - loss: 0.0273 - accuracy: 0.9918 - val_loss: 0.0867 - val_accuracy: 0.9782 - 3s/epoch - 23ms/step\n",
      "Epoch 23/100\n",
      "132/132 - 3s - loss: 0.0252 - accuracy: 0.9922 - val_loss: 0.0811 - val_accuracy: 0.9787 - 3s/epoch - 23ms/step\n",
      "Epoch 24/100\n",
      "132/132 - 3s - loss: 0.0246 - accuracy: 0.9918 - val_loss: 0.0855 - val_accuracy: 0.9781 - 3s/epoch - 22ms/step\n",
      "Epoch 25/100\n",
      "132/132 - 3s - loss: 0.0265 - accuracy: 0.9913 - val_loss: 0.0922 - val_accuracy: 0.9786 - 3s/epoch - 23ms/step\n",
      "Epoch 26/100\n",
      "132/132 - 3s - loss: 0.0187 - accuracy: 0.9940 - val_loss: 0.0829 - val_accuracy: 0.9810 - 3s/epoch - 22ms/step\n",
      "Epoch 27/100\n",
      "132/132 - 3s - loss: 0.0237 - accuracy: 0.9923 - val_loss: 0.1017 - val_accuracy: 0.9769 - 3s/epoch - 22ms/step\n",
      "Epoch 28/100\n",
      "132/132 - 3s - loss: 0.0225 - accuracy: 0.9928 - val_loss: 0.1081 - val_accuracy: 0.9770 - 3s/epoch - 22ms/step\n",
      "Epoch 29/100\n",
      "132/132 - 3s - loss: 0.0244 - accuracy: 0.9917 - val_loss: 0.0974 - val_accuracy: 0.9781 - 3s/epoch - 22ms/step\n",
      "Epoch 30/100\n",
      "132/132 - 3s - loss: 0.0222 - accuracy: 0.9925 - val_loss: 0.1001 - val_accuracy: 0.9774 - 3s/epoch - 22ms/step\n",
      "Epoch 31/100\n",
      "132/132 - 3s - loss: 0.0225 - accuracy: 0.9926 - val_loss: 0.0998 - val_accuracy: 0.9773 - 3s/epoch - 23ms/step\n"
     ]
    }
   ],
   "source": [
    "early_stopping = keras.callbacks.EarlyStopping(\n",
    "    patience=20,\n",
    "    min_delta=0.001,\n",
    "    restore_best_weights=True,\n",
    ")\n",
    "print(y_train.shape, y_val.shape)\n",
    "history = model.fit(\n",
    "    X_train, y_train,\n",
    "    validation_data=(X_val, y_val),\n",
    "    batch_size=256,\n",
    "    epochs=100,\n",
    "    callbacks=[early_stopping],\n",
    "    verbose=2, # hide the output because we have so many epochs\n",
    ")"
   ]
  },
  {
   "cell_type": "code",
   "execution_count": 15,
   "id": "4870f694-c5b9-41f2-af4b-0cb1c6c17b5b",
   "metadata": {},
   "outputs": [
    {
     "data": {
      "image/png": "[encoded data removed]",
      "text/plain": [
       "<Figure size 432x288 with 1 Axes>"
      ]
     },
     "metadata": {
      "needs_background": "light"
     },
     "output_type": "display_data"
    }
   ],
   "source": [
    "import matplotlib\n",
    "history_df = pd.DataFrame(history.history)\n",
    "history_df.loc[:, ['loss', 'val_loss']].plot();"
   ]
  },
  {
   "cell_type": "code",
   "execution_count": 16,
   "id": "217506dd",
   "metadata": {},
   "outputs": [
    {
     "data": {
      "image/png": "[encoded data removed]",
      "text/plain": [
       "<Figure size 432x288 with 1 Axes>"
      ]
     },
     "metadata": {
      "needs_background": "light"
     },
     "output_type": "display_data"
    }
   ],
   "source": [
    "history_df = pd.DataFrame(history.history)\n",
    "history_df.loc[:, ['accuracy', 'val_accuracy']].plot();"
   ]
  }
 ],
 "metadata": {
  "kernelspec": {
   "display_name": "Python 3 (ipykernel)",
   "language": "python",
   "name": "python3"
  },
  "language_info": {
   "codemirror_mode": {
    "name": "ipython",
    "version": 3
   },
   "file_extension": ".py",
   "mimetype": "text/x-python",
   "name": "python",
   "nbconvert_exporter": "python",
   "pygments_lexer": "ipython3",
   "version": "3.11.7"
  }
 },
 "nbformat": 4,
 "nbformat_minor": 5
}
