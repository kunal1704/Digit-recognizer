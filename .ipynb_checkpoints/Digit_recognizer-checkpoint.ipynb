{
 "cells": [
  {
   "cell_type": "code",
   "execution_count": 1,
   "id": "68c05587-a6b0-4060-a7fa-1fbca1f13a21",
   "metadata": {},
   "outputs": [
    {
     "name": "stdout",
     "output_type": "stream",
     "text": [
      "Requirement already satisfied: pandas in /home/kunal/anaconda3/envs/digit-recognizer/lib/python3.11/site-packages (2.2.0)\n",
      "Requirement already satisfied: numpy<2,>=1.23.2 in /home/kunal/anaconda3/envs/digit-recognizer/lib/python3.11/site-packages (from pandas) (1.26.3)\n",
      "Requirement already satisfied: python-dateutil>=2.8.2 in /home/kunal/anaconda3/envs/digit-recognizer/lib/python3.11/site-packages (from pandas) (2.8.2)\n",
      "Requirement already satisfied: pytz>=2020.1 in /home/kunal/anaconda3/envs/digit-recognizer/lib/python3.11/site-packages (from pandas) (2023.3.post1)\n",
      "Requirement already satisfied: tzdata>=2022.7 in /home/kunal/anaconda3/envs/digit-recognizer/lib/python3.11/site-packages (from pandas) (2023.4)\n",
      "Requirement already satisfied: six>=1.5 in /home/kunal/anaconda3/envs/digit-recognizer/lib/python3.11/site-packages (from python-dateutil>=2.8.2->pandas) (1.16.0)\n",
      "\u001b[31mERROR: Could not find a version that satisfies the requirement zipfile (from versions: none)\u001b[0m\u001b[31m\n",
      "\u001b[0m\u001b[31mERROR: No matching distribution found for zipfile\u001b[0m\u001b[31m\n",
      "\u001b[0mRequirement already satisfied: numpy in /home/kunal/anaconda3/envs/digit-recognizer/lib/python3.11/site-packages (1.26.3)\n",
      "Requirement already satisfied: scikit-learn in /home/kunal/anaconda3/envs/digit-recognizer/lib/python3.11/site-packages (1.4.0)\n",
      "Requirement already satisfied: numpy<2.0,>=1.19.5 in /home/kunal/anaconda3/envs/digit-recognizer/lib/python3.11/site-packages (from scikit-learn) (1.26.3)\n",
      "Requirement already satisfied: scipy>=1.6.0 in /home/kunal/anaconda3/envs/digit-recognizer/lib/python3.11/site-packages (from scikit-learn) (1.12.0)\n",
      "Requirement already satisfied: joblib>=1.2.0 in /home/kunal/anaconda3/envs/digit-recognizer/lib/python3.11/site-packages (from scikit-learn) (1.3.2)\n",
      "Requirement already satisfied: threadpoolctl>=2.0.0 in /home/kunal/anaconda3/envs/digit-recognizer/lib/python3.11/site-packages (from scikit-learn) (3.2.0)\n",
      "Requirement already satisfied: tensorflow in /home/kunal/anaconda3/envs/digit-recognizer/lib/python3.11/site-packages (2.15.0.post1)\n",
      "Requirement already satisfied: absl-py>=1.0.0 in /home/kunal/anaconda3/envs/digit-recognizer/lib/python3.11/site-packages (from tensorflow) (2.1.0)\n",
      "Requirement already satisfied: astunparse>=1.6.0 in /home/kunal/anaconda3/envs/digit-recognizer/lib/python3.11/site-packages (from tensorflow) (1.6.3)\n",
      "Requirement already satisfied: flatbuffers>=23.5.26 in /home/kunal/anaconda3/envs/digit-recognizer/lib/python3.11/site-packages (from tensorflow) (23.5.26)\n",
      "Requirement already satisfied: gast!=0.5.0,!=0.5.1,!=0.5.2,>=0.2.1 in /home/kunal/anaconda3/envs/digit-recognizer/lib/python3.11/site-packages (from tensorflow) (0.5.4)\n",
      "Requirement already satisfied: google-pasta>=0.1.1 in /home/kunal/anaconda3/envs/digit-recognizer/lib/python3.11/site-packages (from tensorflow) (0.2.0)\n",
      "Requirement already satisfied: h5py>=2.9.0 in /home/kunal/anaconda3/envs/digit-recognizer/lib/python3.11/site-packages (from tensorflow) (3.10.0)\n",
      "Requirement already satisfied: libclang>=13.0.0 in /home/kunal/anaconda3/envs/digit-recognizer/lib/python3.11/site-packages (from tensorflow) (16.0.6)\n",
      "Requirement already satisfied: ml-dtypes~=0.2.0 in /home/kunal/anaconda3/envs/digit-recognizer/lib/python3.11/site-packages (from tensorflow) (0.2.0)\n",
      "Requirement already satisfied: numpy<2.0.0,>=1.23.5 in /home/kunal/anaconda3/envs/digit-recognizer/lib/python3.11/site-packages (from tensorflow) (1.26.3)\n",
      "Requirement already satisfied: opt-einsum>=2.3.2 in /home/kunal/anaconda3/envs/digit-recognizer/lib/python3.11/site-packages (from tensorflow) (3.3.0)\n",
      "Requirement already satisfied: packaging in /home/kunal/anaconda3/envs/digit-recognizer/lib/python3.11/site-packages (from tensorflow) (23.1)\n",
      "Requirement already satisfied: protobuf!=4.21.0,!=4.21.1,!=4.21.2,!=4.21.3,!=4.21.4,!=4.21.5,<5.0.0dev,>=3.20.3 in /home/kunal/anaconda3/envs/digit-recognizer/lib/python3.11/site-packages (from tensorflow) (4.23.4)\n",
      "Requirement already satisfied: setuptools in /home/kunal/anaconda3/envs/digit-recognizer/lib/python3.11/site-packages (from tensorflow) (68.2.2)\n",
      "Requirement already satisfied: six>=1.12.0 in /home/kunal/anaconda3/envs/digit-recognizer/lib/python3.11/site-packages (from tensorflow) (1.16.0)\n",
      "Requirement already satisfied: termcolor>=1.1.0 in /home/kunal/anaconda3/envs/digit-recognizer/lib/python3.11/site-packages (from tensorflow) (2.4.0)\n",
      "Requirement already satisfied: typing-extensions>=3.6.6 in /home/kunal/anaconda3/envs/digit-recognizer/lib/python3.11/site-packages (from tensorflow) (4.9.0)\n",
      "Requirement already satisfied: wrapt<1.15,>=1.11.0 in /home/kunal/anaconda3/envs/digit-recognizer/lib/python3.11/site-packages (from tensorflow) (1.14.1)\n",
      "Requirement already satisfied: tensorflow-io-gcs-filesystem>=0.23.1 in /home/kunal/anaconda3/envs/digit-recognizer/lib/python3.11/site-packages (from tensorflow) (0.35.0)\n",
      "Requirement already satisfied: grpcio<2.0,>=1.24.3 in /home/kunal/anaconda3/envs/digit-recognizer/lib/python3.11/site-packages (from tensorflow) (1.60.0)\n",
      "Requirement already satisfied: tensorboard<2.16,>=2.15 in /home/kunal/anaconda3/envs/digit-recognizer/lib/python3.11/site-packages (from tensorflow) (2.15.1)\n",
      "Requirement already satisfied: tensorflow-estimator<2.16,>=2.15.0 in /home/kunal/anaconda3/envs/digit-recognizer/lib/python3.11/site-packages (from tensorflow) (2.15.0)\n",
      "Requirement already satisfied: keras<2.16,>=2.15.0 in /home/kunal/anaconda3/envs/digit-recognizer/lib/python3.11/site-packages (from tensorflow) (2.15.0)\n",
      "Requirement already satisfied: wheel<1.0,>=0.23.0 in /home/kunal/anaconda3/envs/digit-recognizer/lib/python3.11/site-packages (from astunparse>=1.6.0->tensorflow) (0.41.2)\n",
      "Requirement already satisfied: google-auth<3,>=1.6.3 in /home/kunal/anaconda3/envs/digit-recognizer/lib/python3.11/site-packages (from tensorboard<2.16,>=2.15->tensorflow) (2.27.0)\n",
      "Requirement already satisfied: google-auth-oauthlib<2,>=0.5 in /home/kunal/anaconda3/envs/digit-recognizer/lib/python3.11/site-packages (from tensorboard<2.16,>=2.15->tensorflow) (1.2.0)\n",
      "Requirement already satisfied: markdown>=2.6.8 in /home/kunal/anaconda3/envs/digit-recognizer/lib/python3.11/site-packages (from tensorboard<2.16,>=2.15->tensorflow) (3.5.2)\n",
      "Requirement already satisfied: requests<3,>=2.21.0 in /home/kunal/anaconda3/envs/digit-recognizer/lib/python3.11/site-packages (from tensorboard<2.16,>=2.15->tensorflow) (2.31.0)\n",
      "Requirement already satisfied: tensorboard-data-server<0.8.0,>=0.7.0 in /home/kunal/anaconda3/envs/digit-recognizer/lib/python3.11/site-packages (from tensorboard<2.16,>=2.15->tensorflow) (0.7.2)\n",
      "Requirement already satisfied: werkzeug>=1.0.1 in /home/kunal/anaconda3/envs/digit-recognizer/lib/python3.11/site-packages (from tensorboard<2.16,>=2.15->tensorflow) (3.0.1)\n",
      "Requirement already satisfied: cachetools<6.0,>=2.0.0 in /home/kunal/anaconda3/envs/digit-recognizer/lib/python3.11/site-packages (from google-auth<3,>=1.6.3->tensorboard<2.16,>=2.15->tensorflow) (5.3.2)\n",
      "Requirement already satisfied: pyasn1-modules>=0.2.1 in /home/kunal/anaconda3/envs/digit-recognizer/lib/python3.11/site-packages (from google-auth<3,>=1.6.3->tensorboard<2.16,>=2.15->tensorflow) (0.3.0)\n",
      "Requirement already satisfied: rsa<5,>=3.1.4 in /home/kunal/anaconda3/envs/digit-recognizer/lib/python3.11/site-packages (from google-auth<3,>=1.6.3->tensorboard<2.16,>=2.15->tensorflow) (4.9)\n",
      "Requirement already satisfied: requests-oauthlib>=0.7.0 in /home/kunal/anaconda3/envs/digit-recognizer/lib/python3.11/site-packages (from google-auth-oauthlib<2,>=0.5->tensorboard<2.16,>=2.15->tensorflow) (1.3.1)\n",
      "Requirement already satisfied: charset-normalizer<4,>=2 in /home/kunal/anaconda3/envs/digit-recognizer/lib/python3.11/site-packages (from requests<3,>=2.21.0->tensorboard<2.16,>=2.15->tensorflow) (2.0.4)\n",
      "Requirement already satisfied: idna<4,>=2.5 in /home/kunal/anaconda3/envs/digit-recognizer/lib/python3.11/site-packages (from requests<3,>=2.21.0->tensorboard<2.16,>=2.15->tensorflow) (3.4)\n",
      "Requirement already satisfied: urllib3<3,>=1.21.1 in /home/kunal/anaconda3/envs/digit-recognizer/lib/python3.11/site-packages (from requests<3,>=2.21.0->tensorboard<2.16,>=2.15->tensorflow) (1.26.18)\n",
      "Requirement already satisfied: certifi>=2017.4.17 in /home/kunal/anaconda3/envs/digit-recognizer/lib/python3.11/site-packages (from requests<3,>=2.21.0->tensorboard<2.16,>=2.15->tensorflow) (2023.11.17)\n",
      "Requirement already satisfied: MarkupSafe>=2.1.1 in /home/kunal/anaconda3/envs/digit-recognizer/lib/python3.11/site-packages (from werkzeug>=1.0.1->tensorboard<2.16,>=2.15->tensorflow) (2.1.3)\n",
      "Requirement already satisfied: pyasn1<0.6.0,>=0.4.6 in /home/kunal/anaconda3/envs/digit-recognizer/lib/python3.11/site-packages (from pyasn1-modules>=0.2.1->google-auth<3,>=1.6.3->tensorboard<2.16,>=2.15->tensorflow) (0.5.1)\n",
      "Requirement already satisfied: oauthlib>=3.0.0 in /home/kunal/anaconda3/envs/digit-recognizer/lib/python3.11/site-packages (from requests-oauthlib>=0.7.0->google-auth-oauthlib<2,>=0.5->tensorboard<2.16,>=2.15->tensorflow) (3.2.2)\n",
      "Collecting sklearn\n",
      "  Using cached sklearn-0.0.post12.tar.gz (2.6 kB)\n",
      "  Preparing metadata (setup.py) ... \u001b[?25lerror\n",
      "  \u001b[1;31merror\u001b[0m: \u001b[1msubprocess-exited-with-error\u001b[0m\n",
      "  \n",
      "  \u001b[31m×\u001b[0m \u001b[32mpython setup.py egg_info\u001b[0m did not run successfully.\n",
      "  \u001b[31m│\u001b[0m exit code: \u001b[1;36m1\u001b[0m\n",
      "  \u001b[31m╰─>\u001b[0m \u001b[31m[15 lines of output]\u001b[0m\n",
      "  \u001b[31m   \u001b[0m The 'sklearn' PyPI package is deprecated, use 'scikit-learn'\n",
      "  \u001b[31m   \u001b[0m rather than 'sklearn' for pip commands.\n",
      "  \u001b[31m   \u001b[0m \n",
      "  \u001b[31m   \u001b[0m Here is how to fix this error in the main use cases:\n",
      "  \u001b[31m   \u001b[0m - use 'pip install scikit-learn' rather than 'pip install sklearn'\n",
      "  \u001b[31m   \u001b[0m - replace 'sklearn' by 'scikit-learn' in your pip requirements files\n",
      "  \u001b[31m   \u001b[0m   (requirements.txt, setup.py, setup.cfg, Pipfile, etc ...)\n",
      "  \u001b[31m   \u001b[0m - if the 'sklearn' package is used by one of your dependencies,\n",
      "  \u001b[31m   \u001b[0m   it would be great if you take some time to track which package uses\n",
      "  \u001b[31m   \u001b[0m   'sklearn' instead of 'scikit-learn' and report it to their issue tracker\n",
      "  \u001b[31m   \u001b[0m - as a last resort, set the environment variable\n",
      "  \u001b[31m   \u001b[0m   SKLEARN_ALLOW_DEPRECATED_SKLEARN_PACKAGE_INSTALL=True to avoid this error\n",
      "  \u001b[31m   \u001b[0m \n",
      "  \u001b[31m   \u001b[0m More information is available at\n",
      "  \u001b[31m   \u001b[0m https://github.com/scikit-learn/sklearn-pypi-package\n",
      "  \u001b[31m   \u001b[0m \u001b[31m[end of output]\u001b[0m\n",
      "  \n",
      "  \u001b[1;35mnote\u001b[0m: This error originates from a subprocess, and is likely not a problem with pip.\n",
      "\u001b[1;31merror\u001b[0m: \u001b[1mmetadata-generation-failed\u001b[0m\n",
      "\n",
      "\u001b[31m×\u001b[0m Encountered error while generating package metadata.\n",
      "\u001b[31m╰─>\u001b[0m See above for output.\n",
      "\n",
      "\u001b[1;35mnote\u001b[0m: This is an issue with the package mentioned above, not pip.\n",
      "\u001b[1;36mhint\u001b[0m: See above for details.\n",
      "\u001b[?25hRequirement already satisfied: matplotlib in /home/kunal/anaconda3/envs/digit-recognizer/lib/python3.11/site-packages (3.8.2)\n",
      "Requirement already satisfied: contourpy>=1.0.1 in /home/kunal/anaconda3/envs/digit-recognizer/lib/python3.11/site-packages (from matplotlib) (1.2.0)\n",
      "Requirement already satisfied: cycler>=0.10 in /home/kunal/anaconda3/envs/digit-recognizer/lib/python3.11/site-packages (from matplotlib) (0.12.1)\n",
      "Requirement already satisfied: fonttools>=4.22.0 in /home/kunal/anaconda3/envs/digit-recognizer/lib/python3.11/site-packages (from matplotlib) (4.47.2)\n",
      "Requirement already satisfied: kiwisolver>=1.3.1 in /home/kunal/anaconda3/envs/digit-recognizer/lib/python3.11/site-packages (from matplotlib) (1.4.5)\n",
      "Requirement already satisfied: numpy<2,>=1.21 in /home/kunal/anaconda3/envs/digit-recognizer/lib/python3.11/site-packages (from matplotlib) (1.26.3)\n",
      "Requirement already satisfied: packaging>=20.0 in /home/kunal/anaconda3/envs/digit-recognizer/lib/python3.11/site-packages (from matplotlib) (23.1)\n",
      "Requirement already satisfied: pillow>=8 in /home/kunal/anaconda3/envs/digit-recognizer/lib/python3.11/site-packages (from matplotlib) (10.2.0)\n",
      "Requirement already satisfied: pyparsing>=2.3.1 in /home/kunal/anaconda3/envs/digit-recognizer/lib/python3.11/site-packages (from matplotlib) (3.1.1)\n",
      "Requirement already satisfied: python-dateutil>=2.7 in /home/kunal/anaconda3/envs/digit-recognizer/lib/python3.11/site-packages (from matplotlib) (2.8.2)\n",
      "Requirement already satisfied: six>=1.5 in /home/kunal/anaconda3/envs/digit-recognizer/lib/python3.11/site-packages (from python-dateutil>=2.7->matplotlib) (1.16.0)\n"
     ]
    }
   ],
   "source": [
    "!pip install pandas\n",
    "!pip install zipfile\n",
    "!pip install numpy\n",
    "!pip install scikit-learn\n",
    "!pip install tensorflow\n",
    "!pip install sklearn\n",
    "!pip install matplotlib"
   ]
  },
  {
   "cell_type": "code",
   "execution_count": 2,
   "id": "93e483c2-f07e-4b97-ade8-e709f86a2987",
   "metadata": {},
   "outputs": [
    {
     "name": "stderr",
     "output_type": "stream",
     "text": [
      "/tmp/ipykernel_6731/3961721135.py:2: DeprecationWarning: \n",
      "Pyarrow will become a required dependency of pandas in the next major release of pandas (pandas 3.0),\n",
      "(to allow more performant data types, such as the Arrow string type, and better interoperability with other libraries)\n",
      "but was not found to be installed on your system.\n",
      "If this would cause problems for you,\n",
      "please provide us feedback at https://github.com/pandas-dev/pandas/issues/54466\n",
      "        \n",
      "  import pandas as pd\n"
     ]
    }
   ],
   "source": [
    "import zipfile\n",
    "import pandas as pd \n",
    "\n",
    "with zipfile.ZipFile(\"/home/kunal/Projects/Digit_recognizer/train.csv.zip\", \"r\") as zip_ref:\n",
    "    with zip_ref.open(\"train.csv\", \"r\") as df:\n",
    "        df_train = pd.read_csv(df)\n"
   ]
  },
  {
   "cell_type": "code",
   "execution_count": null,
   "id": "4b369ac9-d465-46bd-bf45-f6fdd4e03f99",
   "metadata": {},
   "outputs": [],
   "source": []
  },
  {
   "cell_type": "code",
   "execution_count": 3,
   "id": "c21bb20e-fd7f-4c1e-829c-9fdd965b38b7",
   "metadata": {},
   "outputs": [
    {
     "name": "stdout",
     "output_type": "stream",
     "text": [
      "the shape of X is (42000, 784)\n",
      "the shape of y is (42000,)\n"
     ]
    }
   ],
   "source": [
    "# Adding the training file and seperating the label column into a diff variable\n",
    "X = df_train.drop('label', axis =1)\n",
    "y = df_train['label']\n",
    "print(\"the shape of X is\", X.shape)\n",
    "print(\"the shape of y is\", y.shape)"
   ]
  },
  {
   "cell_type": "code",
   "execution_count": 5,
   "id": "6ee0bc92-9564-44b0-8d31-138a0dbe3eae",
   "metadata": {},
   "outputs": [
    {
     "name": "stdout",
     "output_type": "stream",
     "text": [
      "X_train shape (33600, 784)\n",
      "X_val shape (8400, 784)\n",
      "y_train shape (33600,)\n",
      "y_val shape (8400,)\n",
      "------\n",
      "y_train shape (33600, 10)\n",
      "y_val shape (8400, 10)\n"
     ]
    }
   ],
   "source": [
    "import numpy as np\n",
    "import sklearn\n",
    "from sklearn.model_selection import train_test_split\n",
    "# Splitting the data \n",
    "X_train, X_val, y_train, y_val = train_test_split(\n",
    "    X, y, test_size=0.2, random_state=42, shuffle=True\n",
    ")\n",
    "print(\"X_train shape\",X_train.shape)\n",
    "print(\"X_val shape\",X_val.shape)\n",
    "print(\"y_train shape\",y_train.shape)\n",
    "print(\"y_val shape\",y_val.shape)\n",
    "y_train = np.eye(10)[y_train]  # Assuming y_train is integer-encoded\n",
    "y_val = np.eye(10)[y_val]\n",
    "print(\"------\")\n",
    "print(\"y_train shape\",y_train.shape)\n",
    "print(\"y_val shape\",y_val.shape)\n"
   ]
  },
  {
   "cell_type": "code",
   "execution_count": 6,
   "id": "ea552294-c3cb-4365-80df-282ad91b46b8",
   "metadata": {},
   "outputs": [
    {
     "name": "stderr",
     "output_type": "stream",
     "text": [
      "2024-01-29 20:18:42.435061: I external/local_tsl/tsl/cuda/cudart_stub.cc:31] Could not find cuda drivers on your machine, GPU will not be used.\n",
      "2024-01-29 20:18:42.604996: E external/local_xla/xla/stream_executor/cuda/cuda_dnn.cc:9261] Unable to register cuDNN factory: Attempting to register factory for plugin cuDNN when one has already been registered\n",
      "2024-01-29 20:18:42.605110: E external/local_xla/xla/stream_executor/cuda/cuda_fft.cc:607] Unable to register cuFFT factory: Attempting to register factory for plugin cuFFT when one has already been registered\n",
      "2024-01-29 20:18:42.631497: E external/local_xla/xla/stream_executor/cuda/cuda_blas.cc:1515] Unable to register cuBLAS factory: Attempting to register factory for plugin cuBLAS when one has already been registered\n",
      "2024-01-29 20:18:42.692442: I external/local_tsl/tsl/cuda/cudart_stub.cc:31] Could not find cuda drivers on your machine, GPU will not be used.\n",
      "2024-01-29 20:18:42.694110: I tensorflow/core/platform/cpu_feature_guard.cc:182] This TensorFlow binary is optimized to use available CPU instructions in performance-critical operations.\n",
      "To enable the following instructions: AVX2 FMA, in other operations, rebuild TensorFlow with the appropriate compiler flags.\n",
      "2024-01-29 20:18:43.861593: W tensorflow/compiler/tf2tensorrt/utils/py_utils.cc:38] TF-TRT Warning: Could not find TensorRT\n"
     ]
    }
   ],
   "source": [
    "from tensorflow import keras\n",
    "from tensorflow.keras import layers\n",
    "\n",
    "model = keras.Sequential([\n",
    "    layers.Dense(784, activation ='relu', input_shape =[784]),\n",
    "    layers.Dropout(0.3),\n",
    "    layers.BatchNormalization(),\n",
    "    layers.Dense(128, activation='relu'),\n",
    "    layers.Dropout(0.3),\n",
    "    layers.BatchNormalization(),\n",
    "    layers.Dense(128, activation='relu'),\n",
    "    layers.Dropout(0.3),\n",
    "    layers.BatchNormalization(),\n",
    "    layers.Dense(10, activation='softmax'),\n",
    "])"
   ]
  },
  {
   "cell_type": "code",
   "execution_count": 7,
   "id": "31967d06-4819-4481-90cf-515a0394e941",
   "metadata": {},
   "outputs": [],
   "source": [
    "model.compile(\n",
    "    optimizer='adam',\n",
    "    loss='categorical_crossentropy',\n",
    "    metrics=['accuracy'],\n",
    ")"
   ]
  },
  {
   "cell_type": "code",
   "execution_count": 8,
   "id": "d02f75c5-b928-425d-bf38-50a47534660b",
   "metadata": {},
   "outputs": [
    {
     "name": "stdout",
     "output_type": "stream",
     "text": [
      "(33600, 10) (8400, 10)\n",
      "Epoch 1/100\n"
     ]
    },
    {
     "name": "stderr",
     "output_type": "stream",
     "text": [
      "2024-01-29 20:18:45.202883: W external/local_tsl/tsl/framework/cpu_allocator_impl.cc:83] Allocation of 210739200 exceeds 10% of free system memory.\n"
     ]
    },
    {
     "name": "stdout",
     "output_type": "stream",
     "text": [
      "130/132 [============================>.] - ETA: 0s - loss: 0.5394 - accuracy: 0.8367"
     ]
    },
    {
     "name": "stderr",
     "output_type": "stream",
     "text": [
      "2024-01-29 20:18:49.234201: W external/local_tsl/tsl/framework/cpu_allocator_impl.cc:83] Allocation of 52684800 exceeds 10% of free system memory.\n"
     ]
    },
    {
     "name": "stdout",
     "output_type": "stream",
     "text": [
      "132/132 [==============================] - 4s 22ms/step - loss: 0.5368 - accuracy: 0.8376 - val_loss: 0.1919 - val_accuracy: 0.9432\n",
      "Epoch 2/100\n",
      "132/132 [==============================] - 2s 19ms/step - loss: 0.2017 - accuracy: 0.9413 - val_loss: 0.1302 - val_accuracy: 0.9607\n",
      "Epoch 3/100\n",
      "132/132 [==============================] - 2s 19ms/step - loss: 0.1453 - accuracy: 0.9565 - val_loss: 0.1037 - val_accuracy: 0.9658\n",
      "Epoch 4/100\n",
      "132/132 [==============================] - 3s 19ms/step - loss: 0.1161 - accuracy: 0.9645 - val_loss: 0.1068 - val_accuracy: 0.9676\n",
      "Epoch 5/100\n",
      "132/132 [==============================] - 3s 20ms/step - loss: 0.0989 - accuracy: 0.9697 - val_loss: 0.1019 - val_accuracy: 0.9690\n",
      "Epoch 6/100\n",
      "132/132 [==============================] - 2s 19ms/step - loss: 0.0849 - accuracy: 0.9744 - val_loss: 0.0910 - val_accuracy: 0.9710\n",
      "Epoch 7/100\n",
      "132/132 [==============================] - 2s 19ms/step - loss: 0.0740 - accuracy: 0.9770 - val_loss: 0.0978 - val_accuracy: 0.9707\n",
      "Epoch 8/100\n",
      "132/132 [==============================] - 2s 19ms/step - loss: 0.0642 - accuracy: 0.9801 - val_loss: 0.0918 - val_accuracy: 0.9731\n",
      "Epoch 9/100\n",
      "132/132 [==============================] - 2s 19ms/step - loss: 0.0581 - accuracy: 0.9816 - val_loss: 0.0893 - val_accuracy: 0.9739\n",
      "Epoch 10/100\n",
      "132/132 [==============================] - 3s 19ms/step - loss: 0.0525 - accuracy: 0.9833 - val_loss: 0.0853 - val_accuracy: 0.9748\n",
      "Epoch 11/100\n",
      "132/132 [==============================] - 3s 19ms/step - loss: 0.0518 - accuracy: 0.9834 - val_loss: 0.0893 - val_accuracy: 0.9761\n",
      "Epoch 12/100\n",
      "132/132 [==============================] - 2s 19ms/step - loss: 0.0458 - accuracy: 0.9854 - val_loss: 0.0922 - val_accuracy: 0.9758\n",
      "Epoch 13/100\n",
      "132/132 [==============================] - 2s 18ms/step - loss: 0.0477 - accuracy: 0.9858 - val_loss: 0.0797 - val_accuracy: 0.9782\n",
      "Epoch 14/100\n",
      "132/132 [==============================] - 2s 19ms/step - loss: 0.0400 - accuracy: 0.9876 - val_loss: 0.0837 - val_accuracy: 0.9757\n",
      "Epoch 15/100\n",
      "132/132 [==============================] - 2s 19ms/step - loss: 0.0391 - accuracy: 0.9875 - val_loss: 0.0787 - val_accuracy: 0.9779\n",
      "Epoch 16/100\n",
      "132/132 [==============================] - 2s 19ms/step - loss: 0.0358 - accuracy: 0.9878 - val_loss: 0.0849 - val_accuracy: 0.9764\n",
      "Epoch 17/100\n",
      "132/132 [==============================] - 2s 19ms/step - loss: 0.0384 - accuracy: 0.9875 - val_loss: 0.0827 - val_accuracy: 0.9786\n",
      "Epoch 18/100\n",
      "132/132 [==============================] - 2s 19ms/step - loss: 0.0334 - accuracy: 0.9894 - val_loss: 0.0914 - val_accuracy: 0.9770\n",
      "Epoch 19/100\n",
      "132/132 [==============================] - 2s 18ms/step - loss: 0.0333 - accuracy: 0.9894 - val_loss: 0.0832 - val_accuracy: 0.9793\n",
      "Epoch 20/100\n",
      "132/132 [==============================] - 2s 19ms/step - loss: 0.0293 - accuracy: 0.9905 - val_loss: 0.0838 - val_accuracy: 0.9795\n",
      "Epoch 21/100\n",
      "132/132 [==============================] - 3s 20ms/step - loss: 0.0323 - accuracy: 0.9898 - val_loss: 0.0943 - val_accuracy: 0.9776\n",
      "Epoch 22/100\n",
      "132/132 [==============================] - 3s 20ms/step - loss: 0.0295 - accuracy: 0.9907 - val_loss: 0.0849 - val_accuracy: 0.9799\n",
      "Epoch 23/100\n",
      "132/132 [==============================] - 3s 20ms/step - loss: 0.0263 - accuracy: 0.9914 - val_loss: 0.0918 - val_accuracy: 0.9776\n"
     ]
    }
   ],
   "source": [
    "early_stopping = keras.callbacks.EarlyStopping(\n",
    "    patience=10,\n",
    "    min_delta=0.001,\n",
    "    restore_best_weights=True,\n",
    ")\n",
    "print(y_train.shape, y_val.shape)\n",
    "history = model.fit(\n",
    "    X_train, y_train,\n",
    "    validation_data=(X_val, y_val),\n",
    "    batch_size=256,\n",
    "    epochs=100,\n",
    "    callbacks=[early_stopping],\n",
    "    verbose=1, # hide the output because we have so many epochs\n",
    ")"
   ]
  },
  {
   "cell_type": "code",
   "execution_count": 9,
   "id": "4870f694-c5b9-41f2-af4b-0cb1c6c17b5b",
   "metadata": {},
   "outputs": [
    {
     "data": {
      "image/png": "[encoded data removed]",
      "text/plain": [
       "<Figure size 640x480 with 1 Axes>"
      ]
     },
     "metadata": {},
     "output_type": "display_data"
    }
   ],
   "source": [
    "import matplotlib\n",
    "history_df = pd.DataFrame(history.history)\n",
    "history_df.loc[:, ['loss', 'val_loss']].plot();"
   ]
  },
  {
   "cell_type": "code",
   "execution_count": null,
   "id": "99d6a2d2-6469-4364-b90d-087c69d8f032",
   "metadata": {},
   "outputs": [],
   "source": []
  }
 ],
 "metadata": {
  "kernelspec": {
   "display_name": "Python 3 (ipykernel)",
   "language": "python",
   "name": "python3"
  },
  "language_info": {
   "codemirror_mode": {
    "name": "ipython",
    "version": 3
   },
   "file_extension": ".py",
   "mimetype": "text/x-python",
   "name": "python",
   "nbconvert_exporter": "python",
   "pygments_lexer": "ipython3",
   "version": "3.11.7"
  }
 },
 "nbformat": 4,
 "nbformat_minor": 5
}
